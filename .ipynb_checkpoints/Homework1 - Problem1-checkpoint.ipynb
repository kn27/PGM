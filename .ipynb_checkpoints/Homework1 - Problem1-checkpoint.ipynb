{
 "cells": [
  {
   "cell_type": "markdown",
   "metadata": {},
   "source": [
    "CUID: kn2465\n"
   ]
  },
  {
   "cell_type": "markdown",
   "metadata": {},
   "source": [
    "### <b> The generative model </b>"
   ]
  },
  {
   "cell_type": "markdown",
   "metadata": {},
   "source": [
    "The generative model we use for this senator dataset is:\n",
    "\n",
    "Draw proportion $\\theta \\sim Dir_{K}(\\alpha = 1)$\n",
    "\n",
    "For each component $k\\in[1..K]$:\n",
    "\n",
    "1. draw $\\beta_{k} \\sim Beta(\\beta; a=1,b=1)$\n",
    "\n",
    "For each datapoint $i\\in[1..n]$,\n",
    "1. draw assignment $z_i|\\theta \\sim Cat(\\theta)$\n",
    "\n",
    "2. draw datapoint $x_i|\\beta,z_i \\sim Binomial(x; v,\\beta_{z_i})$ where $v$ is the number of bills to vote"
   ]
  },
  {
   "cell_type": "markdown",
   "metadata": {},
   "source": [
    "### <b>Code </b>"
   ]
  },
  {
   "cell_type": "markdown",
   "metadata": {},
   "source": [
    "First import a few libraries. Here gibbs is a module I wrote for the exercise"
   ]
  },
  {
   "cell_type": "code",
   "execution_count": 1,
   "metadata": {},
   "outputs": [],
   "source": [
    "from gibbs import gibbs #A module I wrote for the exercise\n",
    "import numpy as np\n",
    "import numpy.random as random\n",
    "import numpy as np\n",
    "from matplotlib import pyplot as plt\n",
    "import pandas as pd "
   ]
  },
  {
   "cell_type": "markdown",
   "metadata": {},
   "source": [
    "Read the input files"
   ]
  },
  {
   "cell_type": "code",
   "execution_count": 2,
   "metadata": {},
   "outputs": [],
   "source": [
    "vote_file = '/home/keane/temp/senate/votes.csv'\n",
    "senator_file= '/home/keane/temp/senate/senators.txt'\n",
    "\n",
    "senators = {'party':[], 'state':[]}\n",
    "with open(senator_file) as file:\n",
    "    for line in file:\n",
    "        party, state = line.split(' ')[-1][1:-2].split('-')\n",
    "        senators['party'].append(party)\n",
    "        senators['state'].append(state)\n",
    "        \n",
    "        \n",
    "with open(vote_file) as file:\n",
    "    votes = [line.split(',') for line in file]\n",
    "    votes = np.array([round(vote.count('1')/(vote.count('1') + vote.count('0')) * 1000) for vote in votes])"
   ]
  },
  {
   "cell_type": "markdown",
   "metadata": {},
   "source": [
    "When running gibbs sampling with number of clusters = 2, the algorithm quickly converges within 10 iterations:"
   ]
  },
  {
   "cell_type": "code",
   "execution_count": 3,
   "metadata": {
    "scrolled": true
   },
   "outputs": [
    {
     "name": "stdout",
     "output_type": "stream",
     "text": [
      "Iter 0: Log likelihood = -24986.58606720283\n",
      "Iter 1: Log likelihood = -1280.5201681637557\n",
      "Iter 2: Log likelihood = -993.6460261037996\n",
      "Iter 3: Log likelihood = -997.6968464881784\n",
      "Iter 4: Log likelihood = -992.3517003089278\n",
      "Iter 5: Log likelihood = -992.5721181935724\n",
      "Compete after 5 iterations: Log likelihood = -992.5721181935724\n"
     ]
    }
   ],
   "source": [
    "c = 2\n",
    "sample = gibbs(x = votes, \n",
    "               model = 'bernoulli_beta', \n",
    "               c = c, \n",
    "               alpha = np.array([1/c]*c), \n",
    "               beta = np.array([{'p':random.beta(1,1)} for _ in range(c)]), \n",
    "               z = np.array([random.randint(0,c) for _ in range(len(votes))]), \n",
    "               beta_alpha = 1,\n",
    "               beta_beta = 1,\n",
    "               binomial_n = 1000)"
   ]
  },
  {
   "cell_type": "markdown",
   "metadata": {},
   "source": [
    "Group the result to see that the clusters reflect partisanship:"
   ]
  },
  {
   "cell_type": "code",
   "execution_count": 4,
   "metadata": {},
   "outputs": [
    {
     "data": {
      "text/html": [
       "<div>\n",
       "<style scoped>\n",
       "    .dataframe tbody tr th:only-of-type {\n",
       "        vertical-align: middle;\n",
       "    }\n",
       "\n",
       "    .dataframe tbody tr th {\n",
       "        vertical-align: top;\n",
       "    }\n",
       "\n",
       "    .dataframe thead th {\n",
       "        text-align: right;\n",
       "    }\n",
       "</style>\n",
       "<table border=\"1\" class=\"dataframe\">\n",
       "  <thead>\n",
       "    <tr style=\"text-align: right;\">\n",
       "      <th></th>\n",
       "      <th></th>\n",
       "      <th>state</th>\n",
       "    </tr>\n",
       "    <tr>\n",
       "      <th>z</th>\n",
       "      <th>party</th>\n",
       "      <th></th>\n",
       "    </tr>\n",
       "  </thead>\n",
       "  <tbody>\n",
       "    <tr>\n",
       "      <th rowspan=\"2\" valign=\"top\">0</th>\n",
       "      <th>D</th>\n",
       "      <td>1</td>\n",
       "    </tr>\n",
       "    <tr>\n",
       "      <th>R</th>\n",
       "      <td>44</td>\n",
       "    </tr>\n",
       "    <tr>\n",
       "      <th rowspan=\"3\" valign=\"top\">1</th>\n",
       "      <th>D</th>\n",
       "      <td>54</td>\n",
       "    </tr>\n",
       "    <tr>\n",
       "      <th>I</th>\n",
       "      <td>2</td>\n",
       "    </tr>\n",
       "    <tr>\n",
       "      <th>R</th>\n",
       "      <td>2</td>\n",
       "    </tr>\n",
       "  </tbody>\n",
       "</table>\n",
       "</div>"
      ],
      "text/plain": [
       "         state\n",
       "z party       \n",
       "0 D          1\n",
       "  R         44\n",
       "1 D         54\n",
       "  I          2\n",
       "  R          2"
      ]
     },
     "execution_count": 4,
     "metadata": {},
     "output_type": "execute_result"
    }
   ],
   "source": [
    "senators['z'] = sample['z'][-1]\n",
    "pd.DataFrame(senators).groupby(['z', 'party']).count()"
   ]
  },
  {
   "cell_type": "markdown",
   "metadata": {},
   "source": [
    "Let the sampling run for 100 iterations"
   ]
  },
  {
   "cell_type": "code",
   "execution_count": 5,
   "metadata": {
    "scrolled": true
   },
   "outputs": [
    {
     "name": "stdout",
     "output_type": "stream",
     "text": [
      "Compete after 100 iterations: Log likelihood = -995.2828810830603\n"
     ]
    }
   ],
   "source": [
    "c = 2\n",
    "sample = gibbs(x = votes, \n",
    "               model = 'bernoulli_beta', \n",
    "               c = c, \n",
    "               alpha = np.array([1/c]*c), \n",
    "               beta = [{'p':random.beta(1,1)} for _ in range(c)], \n",
    "               z = np.array([random.randint(0,c) for _ in range(len(votes))]), \n",
    "               beta_alpha = 1,\n",
    "               beta_beta = 1,\n",
    "               binomial_n = 1000,\n",
    "               threshold = 0,\n",
    "               max_iter = 100,\n",
    "               logging = False)"
   ]
  },
  {
   "cell_type": "markdown",
   "metadata": {},
   "source": [
    "Plot of log-joint shows convergence"
   ]
  },
  {
   "cell_type": "code",
   "execution_count": 6,
   "metadata": {
    "scrolled": true
   },
   "outputs": [
    {
     "data": {
      "text/plain": [
       "Text(0.5, 1.0, 'log joint vs iteration')"
      ]
     },
     "execution_count": 6,
     "metadata": {},
     "output_type": "execute_result"
    },
    {
     "data": {
      "image/png": "[encoded data removed]",
      "text/plain": [
       "<Figure size 432x288 with 1 Axes>"
      ]
     },
     "metadata": {
      "needs_background": "light"
     },
     "output_type": "display_data"
    }
   ],
   "source": [
    "plt.plot(sample['l'])\n",
    "plt.title('log joint vs iteration')"
   ]
  },
  {
   "cell_type": "markdown",
   "metadata": {},
   "source": [
    "Plots of component p also show convergence"
   ]
  },
  {
   "cell_type": "code",
   "execution_count": 7,
   "metadata": {
    "scrolled": true
   },
   "outputs": [
    {
     "data": {
      "text/plain": [
       "Text(0.5, 1.0, 'First component p vs iteration')"
      ]
     },
     "execution_count": 7,
     "metadata": {},
     "output_type": "execute_result"
    },
    {
     "data": {
      "image/png": "[encoded data removed]",
      "text/plain": [
       "<Figure size 432x288 with 1 Axes>"
      ]
     },
     "metadata": {
      "needs_background": "light"
     },
     "output_type": "display_data"
    }
   ],
   "source": [
    "plt.plot([output[0]['p'] for output in sample['beta']])\n",
    "plt.title('First component p vs iteration')"
   ]
  },
  {
   "cell_type": "code",
   "execution_count": 8,
   "metadata": {},
   "outputs": [
    {
     "data": {
      "text/plain": [
       "Text(0.5, 1.0, 'Second component p vs iteration')"
      ]
     },
     "execution_count": 8,
     "metadata": {},
     "output_type": "execute_result"
    },
    {
     "data": {
      "image/png": "[encoded data removed]",
      "text/plain": [
       "<Figure size 432x288 with 1 Axes>"
      ]
     },
     "metadata": {
      "needs_background": "light"
     },
     "output_type": "display_data"
    }
   ],
   "source": [
    "plt.plot([output[1]['p'] for output in sample['beta']])\n",
    "plt.title('Second component p vs iteration')"
   ]
  },
  {
   "cell_type": "markdown",
   "metadata": {},
   "source": [
    "### <b>Discussion</b>"
   ]
  },
  {
   "cell_type": "markdown",
   "metadata": {},
   "source": [
    "   \n",
    "1. The model captures the partisanship well. Not much information was given about the senators other than party and state, so there is little value to run a higher number of clusters.\n",
    "\n",
    "\n",
    "2. A mixed-membership model in which we add a latent variable for attributes of the bills would add more depth to the analysis. The mixture model only reflects the partisanship of the senate, the mixed-membership model would let us know the cluster of bills that the senate tends to be more (or less) partisan on."
   ]
  }
 ],
 "metadata": {
  "kernelspec": {
   "display_name": "Python 3",
   "language": "python",
   "name": "python3"
  },
  "language_info": {
   "codemirror_mode": {
    "name": "ipython",
    "version": 3
   },
   "file_extension": ".py",
   "mimetype": "text/x-python",
   "name": "python",
   "nbconvert_exporter": "python",
   "pygments_lexer": "ipython3",
   "version": "3.7.3"
  }
 },
 "nbformat": 4,
 "nbformat_minor": 2
}
