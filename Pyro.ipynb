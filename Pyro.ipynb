{
 "cells": [
  {
   "cell_type": "code",
   "execution_count": 28,
   "metadata": {},
   "outputs": [],
   "source": [
    "import matplotlib.pyplot as plt\n",
    "import numpy as np\n",
    "import torch\n",
    "\n",
    "import pyro\n",
    "import pyro.infer\n",
    "import pyro.optim\n",
    "import pyro.distributions as dist\n",
    "\n",
    "pyro.set_rng_seed(101)"
   ]
  },
  {
   "cell_type": "code",
   "execution_count": 29,
   "metadata": {},
   "outputs": [],
   "source": [
    "def scale(guess):\n",
    "    weight = pyro.sample(\"weight\", dist.Normal(guess, 1.0))\n",
    "    return pyro.sample(\"measurement\", dist.Normal(weight, 0.75))\n"
   ]
  },
  {
   "cell_type": "code",
   "execution_count": 30,
   "metadata": {},
   "outputs": [],
   "source": [
    "conditioned_scale = pyro.condition(scale, data={\"measurement\": 9.5})"
   ]
  },
  {
   "cell_type": "code",
   "execution_count": 31,
   "metadata": {},
   "outputs": [],
   "source": [
    "def scale_obs(guess):  # equivalent to conditioned_scale above\n",
    "    weight = pyro.sample(\"weight\", dist.Normal(guess, 1.))\n",
    "     # here we condition on measurement == 9.5\n",
    "    return pyro.sample(\"measurement\", dist.Normal(weight, 1.), obs=9.5)\n"
   ]
  },
  {
   "cell_type": "code",
   "execution_count": 36,
   "metadata": {},
   "outputs": [
    {
     "name": "stdout",
     "output_type": "stream",
     "text": [
      "a =  9.188119888305664\n",
      "b =  0.6033520698547363\n"
     ]
    },
    {
     "data": {
      "image/png": "[encoded data removed]",
      "text/plain": [
       "<Figure size 432x288 with 1 Axes>"
      ]
     },
     "metadata": {
      "needs_background": "light"
     },
     "output_type": "display_data"
    }
   ],
   "source": [
    "from torch.distributions import constraints\n",
    "\n",
    "def scale_parametrized_guide(guess):\n",
    "    a = pyro.param(\"a\", torch.tensor(guess))\n",
    "    b = pyro.param(\"b\", torch.tensor(1.), constraint=constraints.positive)\n",
    "    return pyro.sample(\"weight\", dist.Normal(a, b))  # no more torch.abs\n",
    "\n",
    "\n",
    "guess = 8.5\n",
    "\n",
    "pyro.clear_param_store()\n",
    "svi = pyro.infer.SVI(model=conditioned_scale,\n",
    "                     guide=scale_parametrized_guide,\n",
    "                     optim=pyro.optim.SGD({\"lr\": 0.001, \"momentum\":0.1}),\n",
    "                     loss=pyro.infer.Trace_ELBO())\n",
    "\n",
    "\n",
    "losses, a,b  = [], [], []\n",
    "num_steps = 2500\n",
    "for t in range(num_steps):\n",
    "    losses.append(svi.step(guess))\n",
    "    a.append(pyro.param(\"a\").item())\n",
    "    b.append(pyro.param(\"b\").item())\n",
    "\n",
    "plt.plot(losses)\n",
    "plt.title(\"ELBO\")\n",
    "plt.xlabel(\"step\")\n",
    "plt.ylabel(\"loss\");\n",
    "print('a = ',pyro.param(\"a\").item())\n",
    "print('b = ', pyro.param(\"b\").item())"
   ]
  },
  {
   "cell_type": "code",
   "execution_count": 35,
   "metadata": {},
   "outputs": [
    {
     "name": "stdout",
     "output_type": "stream",
     "text": [
      "a =  9.107148170471191\n",
      "b =  0.606410026550293\n"
     ]
    },
    {
     "data": {
      "image/png": "[encoded data removed]",
      "text/plain": [
       "<Figure size 432x288 with 2 Axes>"
      ]
     },
     "metadata": {
      "needs_background": "light"
     },
     "output_type": "display_data"
    }
   ],
   "source": [
    "plt.subplot(1,2,1)\n",
    "plt.plot([0,num_steps],[9.14,9.14], 'k:')\n",
    "plt.plot(a)\n",
    "plt.ylabel('a')\n",
    "\n",
    "plt.subplot(1,2,2)\n",
    "plt.ylabel('b')\n",
    "plt.plot([0,num_steps],[0.6,0.6], 'k:')\n",
    "plt.plot(b)\n",
    "plt.tight_layout()"
   ]
  },
  {
   "cell_type": "code",
   "execution_count": 13,
   "metadata": {},
   "outputs": [
    {
     "name": "stdout",
     "output_type": "stream",
     "text": [
      "('sunny', 105.9779052734375)\n",
      "('cloudy', 61.45758056640625)\n",
      "('cloudy', 52.27955627441406)\n"
     ]
    }
   ],
   "source": [
    "import argparse\n",
    "import functools\n",
    "import logging\n",
    "\n",
    "import torch\n",
    "from torch import nn\n",
    "from torch.distributions import constraints\n",
    "\n",
    "import pyro\n",
    "import pyro.distributions as dist\n",
    "from pyro.infer import SVI, JitTraceEnum_ELBO, TraceEnum_ELBO\n",
    "from pyro.optim import ClippedAdam\n",
    "\n",
    "logging.basicConfig(format='%(relativeCreated) 9d %(message)s', level=logging.INFO)\n",
    "\n",
    "\n",
    "# This is a fully generative model of a batch of documents.\n",
    "# data is a [num_words_per_doc, num_documents] shaped array of word ids\n",
    "# (specifically it is not a histogram). We assume in this simple example\n",
    "# that all documents have the same number of words.\n",
    "def model(data=None, args=None, batch_size=None):\n",
    "    # Globals.\n",
    "    with pyro.plate(\"topics\", args.num_topics):\n",
    "        topic_weights = pyro.sample(\"topic_weights\", dist.Gamma(1. / args.num_topics, 1.))\n",
    "        topic_words = pyro.sample(\"topic_words\",\n",
    "                                  dist.Dirichlet(torch.ones(args.num_words) / args.num_words))\n",
    "\n",
    "    # Locals.\n",
    "    with pyro.plate(\"documents\", args.num_docs) as ind:\n",
    "        if data is not None:\n",
    "            with pyro.util.ignore_jit_warnings():\n",
    "                assert data.shape == (args.num_words_per_doc, args.num_docs)\n",
    "            data = data[:, ind]\n",
    "        doc_topics = pyro.sample(\"doc_topics\", dist.Dirichlet(topic_weights))\n",
    "        with pyro.plate(\"words\", args.num_words_per_doc):\n",
    "            # The word_topics variable is marginalized out during inference,\n",
    "            # achieved by specifying infer={\"enumerate\": \"parallel\"} and using\n",
    "            # TraceEnum_ELBO for inference. Thus we can ignore this variable in\n",
    "            # the guide.\n",
    "            word_topics = pyro.sample(\"word_topics\", dist.Categorical(doc_topics),\n",
    "                                      infer={\"enumerate\": \"parallel\"})\n",
    "            data = pyro.sample(\"doc_words\", dist.Categorical(topic_words[word_topics]),\n",
    "                               obs=data)\n",
    "\n",
    "    return topic_weights, topic_words, data\n",
    "\n",
    "\n",
    "# We will use amortized inference of the local topic variables, achieved by a\n",
    "# multi-layer perceptron. We'll wrap the guide in an nn.Module.\n",
    "def make_predictor(args):\n",
    "    layer_sizes = ([args.num_words] +\n",
    "                   [int(s) for s in args.layer_sizes.split('-')] +\n",
    "                   [args.num_topics])\n",
    "    logging.info('Creating MLP with sizes {}'.format(layer_sizes))\n",
    "    layers = []\n",
    "    for in_size, out_size in zip(layer_sizes, layer_sizes[1:]):\n",
    "        layer = nn.Linear(in_size, out_size)\n",
    "        layer.weight.data.normal_(0, 0.001)\n",
    "        layer.bias.data.normal_(0, 0.001)\n",
    "        layers.append(layer)\n",
    "        layers.append(nn.Sigmoid())\n",
    "    layers.append(nn.Softmax(dim=-1))\n",
    "    return nn.Sequential(*layers)\n",
    "\n",
    "\n",
    "def parametrized_guide(predictor, data, args, batch_size=None):\n",
    "    # Use a conjugate guide for global variables.\n",
    "    topic_weights_posterior = pyro.param(\n",
    "            \"topic_weights_posterior\",\n",
    "            lambda: torch.ones(args.num_topics),\n",
    "            constraint=constraints.positive)\n",
    "    topic_words_posterior = pyro.param(\n",
    "            \"topic_words_posterior\",\n",
    "            lambda: torch.ones(args.num_topics, args.num_words),\n",
    "            constraint=constraints.greater_than(0.5))\n",
    "    with pyro.plate(\"topics\", args.num_topics):\n",
    "        pyro.sample(\"topic_weights\", dist.Gamma(topic_weights_posterior, 1.))\n",
    "        pyro.sample(\"topic_words\", dist.Dirichlet(topic_words_posterior))\n",
    "\n",
    "    # Use an amortized guide for local variables.\n",
    "    pyro.module(\"predictor\", predictor)\n",
    "    with pyro.plate(\"documents\", args.num_docs, batch_size) as ind:\n",
    "        data = data[:, ind]\n",
    "        # The neural network will operate on histograms rather than word\n",
    "        # index vectors, so we'll convert the raw data to a histogram.\n",
    "        counts = (torch.zeros(args.num_words, ind.size(0))\n",
    "                       .scatter_add(0, data, torch.ones(data.shape)))\n",
    "        doc_topics = predictor(counts.transpose(0, 1))\n",
    "        pyro.sample(\"doc_topics\", dist.Delta(doc_topics, event_dim=1))\n",
    "\n",
    "\n",
    "def main(args):\n",
    "    logging.info('Generating data')\n",
    "    pyro.set_rng_seed(0)\n",
    "    pyro.clear_param_store()\n",
    "    pyro.enable_validation(__debug__)\n",
    "\n",
    "    # We can generate synthetic data directly by calling the model.\n",
    "    true_topic_weights, true_topic_words, data = model(args=args)\n",
    "\n",
    "    # We'll train using SVI.\n",
    "    logging.info('-' * 40)\n",
    "    logging.info('Training on {} documents'.format(args.num_docs))\n",
    "    predictor = make_predictor(args)\n",
    "    guide = functools.partial(parametrized_guide, predictor)\n",
    "    Elbo = JitTraceEnum_ELBO if args.jit else TraceEnum_ELBO\n",
    "    elbo = Elbo(max_plate_nesting=2)\n",
    "    optim = ClippedAdam({'lr': args.learning_rate})\n",
    "    svi = SVI(model, guide, optim, elbo)\n",
    "    logging.info('Step\\tLoss')\n",
    "    for step in range(args.num_steps):\n",
    "        loss = svi.step(data, args=args, batch_size=args.batch_size)\n",
    "        if step % 10 == 0:\n",
    "            logging.info('{: >5d}\\t{}'.format(step, loss))\n",
    "    loss = elbo.loss(model, guide, data, args=args)\n",
    "    logging.info('final loss = {}'.format(loss))\n",
    "\n",
    "\n",
    "if __name__ == '__main__':\n",
    "    assert pyro.__version__.startswith('1.0.0')\n",
    "    parser = argparse.ArgumentParser(description=\"Amortized Latent Dirichlet Allocation\")\n",
    "    parser.add_argument(\"-t\", \"--num-topics\", default=8, type=int)\n",
    "    parser.add_argument(\"-w\", \"--num-words\", default=1024, type=int)\n",
    "    parser.add_argument(\"-d\", \"--num-docs\", default=1000, type=int)\n",
    "    parser.add_argument(\"-wd\", \"--num-words-per-doc\", default=64, type=int)\n",
    "    parser.add_argument(\"-n\", \"--num-steps\", default=1000, type=int)\n",
    "    parser.add_argument(\"-l\", \"--layer-sizes\", default=\"100-100\")\n",
    "    parser.add_argument(\"-lr\", \"--learning-rate\", default=0.01, type=float)\n",
    "    parser.add_argument(\"-b\", \"--batch-size\", default=32, type=int)\n",
    "    parser.add_argument('--jit', action='store_true')\n",
    "    args = parser.parse_args()\n",
    "    main(args)"
   ]
  }
 ],
 "metadata": {
  "kernelspec": {
   "display_name": "Python 3",
   "language": "python",
   "name": "python3"
  },
  "language_info": {
   "codemirror_mode": {
    "name": "ipython",
    "version": 3
   },
   "file_extension": ".py",
   "mimetype": "text/x-python",
   "name": "python",
   "nbconvert_exporter": "python",
   "pygments_lexer": "ipython3",
   "version": "3.7.3"
  }
 },
 "nbformat": 4,
 "nbformat_minor": 2
}
