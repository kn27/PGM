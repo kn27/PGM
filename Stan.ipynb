{
 "cells": [
  {
   "cell_type": "code",
   "execution_count": 139,
   "metadata": {},
   "outputs": [],
   "source": [
    "from matrix_factorization import read"
   ]
  },
  {
   "cell_type": "code",
   "execution_count": 140,
   "metadata": {},
   "outputs": [],
   "source": [
    "train,val,test,mapping = read()"
   ]
  },
  {
   "cell_type": "code",
   "execution_count": 141,
   "metadata": {},
   "outputs": [],
   "source": [
    "import pystan\n",
    "import matplotlib.pyplot as plt\n",
    "import seaborn as sns\n",
    "import pandas as pd\n",
    "import numpy as np\n",
    "\n",
    "sns.set()  # Nice plot aesthetic\n",
    "np.random.seed(101)\n",
    "\n",
    "model = \"\"\"\n",
    "data {\n",
    "    int<lower=1> N;\n",
    "    int<lower=1> U;\n",
    "    int<lower=1> D;\n",
    "    int<lower=0,upper=U> uu[N];\n",
    "    int<lower=0,upper=D> dd[N];\n",
    "    int<lower=1> K;\n",
    "    int<lower=0> y[N];\n",
    "    real shape;\n",
    "    real rate;\n",
    "    int<lower = 0, upper = 1> run_estimation; \n",
    "}\n",
    "parameters {\n",
    "    vector[U] xi;\n",
    "    vector[D] eta;\n",
    "    matrix[U,K] theta;\n",
    "    matrix[D,K] beta;\n",
    "    matrix[N,K] z;\n",
    "}\n",
    "model {\n",
    "    if(run_estimation==1){\n",
    "        for (u in 1:U){\n",
    "            xi[u] ~ gamma(shape, rate);     \n",
    "\n",
    "            for (k in 1:K){\n",
    "                theta[u,k] ~ gamma(shape, xi[u]);\n",
    "            }\n",
    "\n",
    "        }\n",
    "        for (d in 1:D){\n",
    "            eta[d] ~ gamma(shape, rate);\n",
    "            for (k in 1:K){\n",
    "                beta[d,k] ~ gamma(shape, eta[d]);\n",
    "            }\n",
    "        }\n",
    "\n",
    "        for (n in 1:N){\n",
    "            real poisson_mean = 0;\n",
    "            for (k in 1:K){\n",
    "                 poisson_mean += theta[uu[n],k] * beta[dd[n],k];\n",
    "            }\n",
    "            if (poisson_mean > 10){\n",
    "                poisson_mean = 10;\n",
    "            }\n",
    "            target += poisson_lpmf(y[n]|poisson_mean);\n",
    "        }\n",
    "    }\n",
    "}\n",
    "generated quantities {\n",
    "    vector[N] y_sim;\n",
    "    vector[U] xi_sim;\n",
    "    vector[D] eta_sim;\n",
    "    matrix[U,K] theta_sim;\n",
    "    matrix[D,K] beta_sim;\n",
    "    for (u in 1:U){\n",
    "        xi_sim[u] = gamma_rng(shape, rate);     \n",
    "        for (k in 1:K){\n",
    "            theta_sim[u,k] = gamma_rng(shape, xi_sim[u]);\n",
    "        }\n",
    "    \n",
    "    }\n",
    "    for (d in 1:D){\n",
    "        eta_sim[d] = gamma_rng(shape, rate);\n",
    "        for (k in 1:K){\n",
    "            beta_sim[d,k] = gamma_rng(shape, eta_sim[d]);\n",
    "        }\n",
    "    }\n",
    "    for (n in 1:N){\n",
    "        real poisson_mean = 0;\n",
    "        for (k in 1:K){\n",
    "             poisson_mean += theta[uu[n],k] * beta[dd[n],k];\n",
    "        }\n",
    "        if (poisson_mean > 10){\n",
    "            poisson_mean = 10;\n",
    "        }\n",
    "        y_sim[n] = poisson_rng(poisson_mean);\n",
    "    }\n",
    "}\n",
    "\"\"\""
   ]
  },
  {
   "cell_type": "code",
   "execution_count": 132,
   "metadata": {},
   "outputs": [],
   "source": [
    "model = \"\"\"\n",
    "data {\n",
    "    int<lower=1> N;\n",
    "    int<lower=1> U;\n",
    "    int<lower=1> D;\n",
    "    int<lower=0,upper=U> uu[N];\n",
    "    int<lower=0,upper=D> dd[N];\n",
    "    int<lower=1> K;\n",
    "    real shape;\n",
    "    real rate;\n",
    "}\n",
    "generated quantities {\n",
    "    vector[N] y_sim;\n",
    "    vector[U] xi_sim;\n",
    "    vector[D] eta_sim;\n",
    "    matrix[U,K] theta_sim;\n",
    "    matrix[D,K] beta_sim;\n",
    "    for (u in 1:U){\n",
    "        xi_sim[u] = gamma_rng(shape, rate);\n",
    "        for (k in 1:K){\n",
    "            theta_sim[u,k] = gamma_rng(shape, xi_sim[u]);\n",
    "        }\n",
    "    \n",
    "    }\n",
    "    for (d in 1:D){\n",
    "        eta_sim[d] = gamma_rng(shape, rate);\n",
    "        for (k in 1:K){\n",
    "            beta_sim[d,k] = gamma_rng(shape, eta_sim[d]);\n",
    "        }\n",
    "    }\n",
    "    for (n in 1:N){\n",
    "        real poisson_mean = 0;\n",
    "        for (k in 1:K){\n",
    "             poisson_mean += theta_sim[uu[n],k] * beta_sim[dd[n],k];\n",
    "        }\n",
    "        if (poisson_mean > 10){\n",
    "            poisson_mean = 10;\n",
    "        }\n",
    "        y_sim[n] = poisson_rng(poisson_mean);\n",
    "    }\n",
    "}\n",
    "\"\"\""
   ]
  },
  {
   "cell_type": "code",
   "execution_count": 142,
   "metadata": {},
   "outputs": [
    {
     "name": "stderr",
     "output_type": "stream",
     "text": [
      "INFO:pystan:COMPILING THE C++ CODE FOR MODEL anon_model_24cd6d6f74988665a43bab6e7a112ea9 NOW.\n"
     ]
    }
   ],
   "source": [
    "# Compile the model\n",
    "sm = pystan.StanModel(model_code=model)"
   ]
  },
  {
   "cell_type": "code",
   "execution_count": 143,
   "metadata": {},
   "outputs": [],
   "source": [
    "U,D = val.shape\n",
    "uu, dd = val.nonzero()\n",
    "uu = uu + 1\n",
    "dd = dd + 1\n",
    "uu = list(uu)\n",
    "dd = list(dd)\n",
    "y = val.toarray()\n",
    "y = y[y>0].astype(int)\n",
    "y = list(y)"
   ]
  },
  {
   "cell_type": "code",
   "execution_count": 144,
   "metadata": {},
   "outputs": [],
   "source": [
    "# Put our data in a dictionary\n",
    "#data = {'U': U, 'D': D, 'y': y, 'uu':uu, 'dd':dd, 'N':len(uu), 'K': 15, 'shape':0.5, 'rate':5.0, 'run_estimation':0}\n",
    "data = {'U': U, 'D': D, 'y': y, 'uu':uu, 'dd':dd, 'N':len(uu), 'K': 15, 'shape':0.5, 'rate':5.0, 'run_estimation':0}"
   ]
  },
  {
   "cell_type": "code",
   "execution_count": 145,
   "metadata": {},
   "outputs": [
    {
     "name": "stderr",
     "output_type": "stream",
     "text": [
      "WARNING:pystan:`warmup=0` forced with `algorithm=\"Fixed_param\"`.\n"
     ]
    },
    {
     "ename": "RuntimeError",
     "evalue": "Exception: poisson_rng: Rate parameter is -4.10752, but must be > 0!  (in 'unknown file name' at line 77)\n",
     "output_type": "error",
     "traceback": [
      "\u001b[0;31m---------------------------------------------------------------------------\u001b[0m",
      "\u001b[0;31mRuntimeError\u001b[0m                              Traceback (most recent call last)",
      "\u001b[0;32m<ipython-input-145-5873aa37ac73>\u001b[0m in \u001b[0;36m<module>\u001b[0;34m\u001b[0m\n\u001b[1;32m      1\u001b[0m \u001b[0;31m# Train the model and generate samples\u001b[0m\u001b[0;34m\u001b[0m\u001b[0;34m\u001b[0m\u001b[0;34m\u001b[0m\u001b[0m\n\u001b[0;32m----> 2\u001b[0;31m \u001b[0mfit\u001b[0m \u001b[0;34m=\u001b[0m \u001b[0msm\u001b[0m\u001b[0;34m.\u001b[0m\u001b[0msampling\u001b[0m\u001b[0;34m(\u001b[0m\u001b[0mdata\u001b[0m\u001b[0;34m=\u001b[0m\u001b[0mdata\u001b[0m\u001b[0;34m,\u001b[0m \u001b[0miter\u001b[0m\u001b[0;34m=\u001b[0m\u001b[0;36m1\u001b[0m\u001b[0;34m,\u001b[0m \u001b[0mchains\u001b[0m\u001b[0;34m=\u001b[0m\u001b[0;36m1\u001b[0m\u001b[0;34m,\u001b[0m \u001b[0mwarmup\u001b[0m\u001b[0;34m=\u001b[0m\u001b[0;36m5\u001b[0m\u001b[0;34m,\u001b[0m \u001b[0mthin\u001b[0m\u001b[0;34m=\u001b[0m\u001b[0;36m1\u001b[0m\u001b[0;34m,\u001b[0m \u001b[0mseed\u001b[0m\u001b[0;34m=\u001b[0m\u001b[0;36m101\u001b[0m\u001b[0;34m,\u001b[0m \u001b[0mn_jobs\u001b[0m \u001b[0;34m=\u001b[0m \u001b[0;36m1\u001b[0m\u001b[0;34m,\u001b[0m \u001b[0malgorithm\u001b[0m\u001b[0;34m=\u001b[0m\u001b[0;34m\"Fixed_param\"\u001b[0m\u001b[0;34m)\u001b[0m\u001b[0;34m\u001b[0m\u001b[0;34m\u001b[0m\u001b[0m\n\u001b[0m",
      "\u001b[0;32m~/anaconda3/lib/python3.7/site-packages/pystan/model.py\u001b[0m in \u001b[0;36msampling\u001b[0;34m(self, data, pars, chains, iter, warmup, thin, seed, init, sample_file, diagnostic_file, verbose, algorithm, control, n_jobs, **kwargs)\u001b[0m\n\u001b[1;32m    811\u001b[0m         \u001b[0mcall_sampler_args\u001b[0m \u001b[0;34m=\u001b[0m \u001b[0mizip\u001b[0m\u001b[0;34m(\u001b[0m\u001b[0mitertools\u001b[0m\u001b[0;34m.\u001b[0m\u001b[0mrepeat\u001b[0m\u001b[0;34m(\u001b[0m\u001b[0mdata\u001b[0m\u001b[0;34m)\u001b[0m\u001b[0;34m,\u001b[0m \u001b[0margs_list\u001b[0m\u001b[0;34m,\u001b[0m \u001b[0mitertools\u001b[0m\u001b[0;34m.\u001b[0m\u001b[0mrepeat\u001b[0m\u001b[0;34m(\u001b[0m\u001b[0mpars\u001b[0m\u001b[0;34m)\u001b[0m\u001b[0;34m)\u001b[0m\u001b[0;34m\u001b[0m\u001b[0;34m\u001b[0m\u001b[0m\n\u001b[1;32m    812\u001b[0m         \u001b[0mcall_sampler_star\u001b[0m \u001b[0;34m=\u001b[0m \u001b[0mself\u001b[0m\u001b[0;34m.\u001b[0m\u001b[0mmodule\u001b[0m\u001b[0;34m.\u001b[0m\u001b[0m_call_sampler_star\u001b[0m\u001b[0;34m\u001b[0m\u001b[0;34m\u001b[0m\u001b[0m\n\u001b[0;32m--> 813\u001b[0;31m         \u001b[0mret_and_samples\u001b[0m \u001b[0;34m=\u001b[0m \u001b[0m_map_parallel\u001b[0m\u001b[0;34m(\u001b[0m\u001b[0mcall_sampler_star\u001b[0m\u001b[0;34m,\u001b[0m \u001b[0mcall_sampler_args\u001b[0m\u001b[0;34m,\u001b[0m \u001b[0mn_jobs\u001b[0m\u001b[0;34m)\u001b[0m\u001b[0;34m\u001b[0m\u001b[0;34m\u001b[0m\u001b[0m\n\u001b[0m\u001b[1;32m    814\u001b[0m         \u001b[0msamples\u001b[0m \u001b[0;34m=\u001b[0m \u001b[0;34m[\u001b[0m\u001b[0msmpl\u001b[0m \u001b[0;32mfor\u001b[0m \u001b[0m_\u001b[0m\u001b[0;34m,\u001b[0m \u001b[0msmpl\u001b[0m \u001b[0;32min\u001b[0m \u001b[0mret_and_samples\u001b[0m\u001b[0;34m]\u001b[0m\u001b[0;34m\u001b[0m\u001b[0;34m\u001b[0m\u001b[0m\n\u001b[1;32m    815\u001b[0m \u001b[0;34m\u001b[0m\u001b[0m\n",
      "\u001b[0;32m~/anaconda3/lib/python3.7/site-packages/pystan/model.py\u001b[0m in \u001b[0;36m_map_parallel\u001b[0;34m(function, args, n_jobs)\u001b[0m\n\u001b[1;32m     88\u001b[0m             \u001b[0mpool\u001b[0m\u001b[0;34m.\u001b[0m\u001b[0mjoin\u001b[0m\u001b[0;34m(\u001b[0m\u001b[0;34m)\u001b[0m\u001b[0;34m\u001b[0m\u001b[0;34m\u001b[0m\u001b[0m\n\u001b[1;32m     89\u001b[0m     \u001b[0;32melse\u001b[0m\u001b[0;34m:\u001b[0m\u001b[0;34m\u001b[0m\u001b[0;34m\u001b[0m\u001b[0m\n\u001b[0;32m---> 90\u001b[0;31m         \u001b[0mmap_result\u001b[0m \u001b[0;34m=\u001b[0m \u001b[0mlist\u001b[0m\u001b[0;34m(\u001b[0m\u001b[0mmap\u001b[0m\u001b[0;34m(\u001b[0m\u001b[0mfunction\u001b[0m\u001b[0;34m,\u001b[0m \u001b[0margs\u001b[0m\u001b[0;34m)\u001b[0m\u001b[0;34m)\u001b[0m\u001b[0;34m\u001b[0m\u001b[0;34m\u001b[0m\u001b[0m\n\u001b[0m\u001b[1;32m     91\u001b[0m     \u001b[0;32mreturn\u001b[0m \u001b[0mmap_result\u001b[0m\u001b[0;34m\u001b[0m\u001b[0;34m\u001b[0m\u001b[0m\n\u001b[1;32m     92\u001b[0m \u001b[0;34m\u001b[0m\u001b[0m\n",
      "\u001b[0;32mstanfit4anon_model_24cd6d6f74988665a43bab6e7a112ea9_271638922416258835.pyx\u001b[0m in \u001b[0;36mstanfit4anon_model_24cd6d6f74988665a43bab6e7a112ea9_271638922416258835._call_sampler_star\u001b[0;34m()\u001b[0m\n",
      "\u001b[0;32mstanfit4anon_model_24cd6d6f74988665a43bab6e7a112ea9_271638922416258835.pyx\u001b[0m in \u001b[0;36mstanfit4anon_model_24cd6d6f74988665a43bab6e7a112ea9_271638922416258835._call_sampler\u001b[0;34m()\u001b[0m\n",
      "\u001b[0;31mRuntimeError\u001b[0m: Exception: poisson_rng: Rate parameter is -4.10752, but must be > 0!  (in 'unknown file name' at line 77)\n"
     ]
    }
   ],
   "source": [
    "# Train the model and generate samples\n",
    "fit = sm.sampling(data=data, iter=1, chains=1, warmup=5, thin=1, seed=101, n_jobs = 1, algorithm=\"Fixed_param\")"
   ]
  },
  {
   "cell_type": "code",
   "execution_count": 137,
   "metadata": {},
   "outputs": [
    {
     "data": {
      "text/plain": [
       "(1, 5017)"
      ]
     },
     "execution_count": 137,
     "metadata": {},
     "output_type": "execute_result"
    }
   ],
   "source": [
    "fit['y_sim'].shape"
   ]
  },
  {
   "cell_type": "code",
   "execution_count": null,
   "metadata": {},
   "outputs": [],
   "source": [
    "summary_dict = fit.summary()\n",
    "df = pd.DataFrame(summary_dict['summary'], \n",
    "                  columns=summary_dict['summary_colnames'], \n",
    "                  index=summary_dict['summary_rownames'])"
   ]
  },
  {
   "cell_type": "code",
   "execution_count": null,
   "metadata": {},
   "outputs": [],
   "source": [
    "alpha_mean, beta_mean = df['mean']['alpha'], df['mean']['beta']\n",
    "\n",
    "# Extracting traces\n",
    "alpha = fit['alpha']\n",
    "beta = fit['beta']\n",
    "sigma = fit['sigma']\n",
    "lp = fit['lp__']"
   ]
  },
  {
   "cell_type": "code",
   "execution_count": null,
   "metadata": {},
   "outputs": [],
   "source": [
    "len(beta)"
   ]
  },
  {
   "cell_type": "code",
   "execution_count": null,
   "metadata": {
    "scrolled": true
   },
   "outputs": [],
   "source": [
    "df"
   ]
  },
  {
   "cell_type": "code",
   "execution_count": null,
   "metadata": {},
   "outputs": [],
   "source": [
    "def plot_trace(param, param_name='parameter'):\n",
    "  \"\"\"Plot the trace and posterior of a parameter.\"\"\"\n",
    "  \n",
    "  # Summary statistics\n",
    "  mean = np.mean(param)\n",
    "  median = np.median(param)\n",
    "  cred_min, cred_max = np.percentile(param, 2.5), np.percentile(param, 97.5)\n",
    "  \n",
    "  # Plotting\n",
    "  plt.subplot(2,1,1)\n",
    "  plt.plot(param)\n",
    "  plt.xlabel('samples')\n",
    "  plt.ylabel(param_name)\n",
    "  plt.axhline(mean, color='r', lw=2, linestyle='--')\n",
    "  plt.axhline(median, color='c', lw=2, linestyle='--')\n",
    "  plt.axhline(cred_min, linestyle=':', color='k', alpha=0.2)\n",
    "  plt.axhline(cred_max, linestyle=':', color='k', alpha=0.2)\n",
    "  plt.title('Trace and Posterior Distribution for {}'.format(param_name))\n",
    "\n",
    "  plt.subplot(2,1,2)\n",
    "  plt.hist(param, 30, density=True); sns.kdeplot(param, shade=True)\n",
    "  plt.xlabel(param_name)\n",
    "  plt.ylabel('density')\n",
    "  plt.axvline(mean, color='r', lw=2, linestyle='--',label='mean')\n",
    "  plt.axvline(median, color='c', lw=2, linestyle='--',label='median')\n",
    "  plt.axvline(cred_min, linestyle=':', color='k', alpha=0.2, label='95% CI')\n",
    "  plt.axvline(cred_max, linestyle=':', color='k', alpha=0.2)\n",
    "  \n",
    "  plt.gcf().tight_layout()\n",
    "  plt.legend()"
   ]
  },
  {
   "cell_type": "code",
   "execution_count": null,
   "metadata": {},
   "outputs": [],
   "source": [
    "plot_trace(alpha)"
   ]
  },
  {
   "cell_type": "code",
   "execution_count": null,
   "metadata": {},
   "outputs": [],
   "source": [
    "model = \"\"\"\n",
    "data {\n",
    "  int N;\n",
    "  int P; // number of categories to be estimated\n",
    "  int y[N]; // outcomes\n",
    "  int<lower = 0, upper = 1> run_estimation; // a switch to evaluate the likelihood\n",
    "  real<lower = 0> prior_sd; // standard deviation of the prior on theta\n",
    "}\n",
    "parameters {\n",
    "  vector[P-1] theta_raw;\n",
    "}\n",
    "transformed parameters {\n",
    "  vector[P] theta;\n",
    "  theta[1] = 0.0;\n",
    "  theta[2:P] = theta_raw;\n",
    "}\n",
    "model {\n",
    "  // prior\n",
    "  theta_raw ~ normal(0, prior_sd);\n",
    "  \n",
    "  // likelihood, which we only evaluate conditionally\n",
    "  if(run_estimation==1){\n",
    "    y ~ categorical(softmax(theta));\n",
    "  }\n",
    "}\n",
    "generated quantities {\n",
    "  vector[N] y_sim;\n",
    "  for(i in 1:N) {\n",
    "    y_sim[i] = categorical_rng(softmax(theta));\n",
    "  }\n",
    "}\n",
    "\"\"\""
   ]
  },
  {
   "cell_type": "code",
   "execution_count": null,
   "metadata": {},
   "outputs": [],
   "source": [
    "sm = pystan.StanModel(model_code=model)"
   ]
  },
  {
   "cell_type": "code",
   "execution_count": null,
   "metadata": {
    "scrolled": true
   },
   "outputs": [],
   "source": [
    "data = dict(N = 1000, P = 5, y = np.random.choice([1,2],size = 1000),run_estimation = 0,prior_sd = 100)\n",
    "sim_out = sm.sampling(data = data)"
   ]
  },
  {
   "cell_type": "code",
   "execution_count": null,
   "metadata": {},
   "outputs": [],
   "source": [
    "library(dplyr)\n",
    "\n",
    "fake_data_matrix  <- sim_out %>% \n",
    "  as.data.frame %>% \n",
    "  select(contains(\"y_sim\"))\n",
    "\n",
    "summary_tbl <- apply(fake_data_matrix[1:5,], 1, summary)"
   ]
  }
 ],
 "metadata": {
  "kernelspec": {
   "display_name": "Python 3",
   "language": "python",
   "name": "python3"
  },
  "language_info": {
   "codemirror_mode": {
    "name": "ipython",
    "version": 3
   },
   "file_extension": ".py",
   "mimetype": "text/x-python",
   "name": "python",
   "nbconvert_exporter": "python",
   "pygments_lexer": "ipython3",
   "version": "3.7.3"
  }
 },
 "nbformat": 4,
 "nbformat_minor": 2
}
